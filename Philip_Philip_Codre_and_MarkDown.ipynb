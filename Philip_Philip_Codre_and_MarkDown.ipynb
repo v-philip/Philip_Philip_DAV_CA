{
 "cells": [
  {
   "cell_type": "markdown",
   "id": "dee24ee8",
   "metadata": {},
   "source": [
    "Framework: \n",
    "\n",
    "Comparing Commodities & Synthetic Commodities (Stocks/Indices) During Financial Crises\n",
    "This framework combines physical commodities (gold, oil, wheat) with synthetic commodities (stocks, ETFs, country indices) to identify the best investment during a crisis.\n",
    "Time "
   ]
  },
  {
   "cell_type": "code",
   "execution_count": null,
   "id": "9b731626",
   "metadata": {},
   "outputs": [],
   "source": [
    "import nasdaq_data_link\n",
    "import pandas as pd\n",
    "\n",
    "# Set your API Key\n",
    "nasdaq_data_link.ApiConfig.api_key = 'NASDAK_DATA_API_KEY'\n",
    "\n",
    "# Define historical periods\n",
    "ranges = [(\"2007-01-01\", \"2010-12-31\"), (\"2019-01-01\", \"2022-12-31\")]\n",
    "\n",
    "def get_quandl_data(code):\n",
    "    dfs = [nasdaq_data_link.get(code, start_date=start, end_date=end) for start, end in ranges]\n",
    "    return pd.concat(dfs)\n",
    "\n",
    "# 1. Spot Prices\n",
    "gold_spot = get_quandl_data(\"LBMA/GOLD\")\n",
    "silver_spot = get_quandl_data(\"LBMA/SILVER\")\n",
    "platinum_spot = get_quandl_data(\"JOHNMATT/PL\")\n",
    "palladium_spot = get_quandl_data(\"JOHNMATT/PD\")\n",
    "\n",
    "# 2. Futures Prices (COMEX Continuous Contracts)\n",
    "gold_futures = get_quandl_data(\"CHRIS/CME_GC1\")\n",
    "silver_futures = get_quandl_data(\"CHRIS/CME_SI1\")\n",
    "platinum_futures = get_quandl_data(\"CHRIS/CME_PL1\")\n",
    "palladium_futures = get_quandl_data(\"CHRIS/CME_PA1\")\n",
    "\n",
    "# 3. CPI for Inflation Adjustment\n",
    "cpi = get_quandl_data(\"RATEINF/CPI_USA\")\n",
    "\n",
    "# 4. Inflation-Adjusted Gold Price\n",
    "gold_real = gold_spot[['USD (PM)']].dropna().join(cpi, how='inner')\n",
    "gold_real['Gold Real Price'] = gold_real['USD (PM)'] / (gold_real['Value'] / 100)\n",
    "\n",
    "# 5. Futures Trading Volume (as liquidity proxy)\n",
    "futures_volumes = pd.DataFrame({\n",
    "    'Gold Futures Volume': gold_futures['Volume'],\n",
    "    'Silver Futures Volume': silver_futures['Volume'],\n",
    "    'Platinum Futures Volume': platinum_futures['Volume'],\n",
    "    'Palladium Futures Volume': palladium_futures['Volume']\n",
    "})\n",
    "\n",
    "# Save to CSVs\n",
    "gold_spot.to_csv(\"gold_spot.csv\")\n",
    "silver_spot.to_csv(\"silver_spot.csv\")\n",
    "platinum_spot.to_csv(\"platinum_spot.csv\")\n",
    "palladium_spot.to_csv(\"palladium_spot.csv\")\n",
    "\n",
    "gold_futures.to_csv(\"gold_futures.csv\")\n",
    "silver_futures.to_csv(\"silver_futures.csv\")\n",
    "platinum_futures.to_csv(\"platinum_futures.csv\")\n",
    "palladium_futures.to_csv(\"palladium_futures.csv\")\n",
    "\n",
    "gold_real.to_csv(\"gold_real_adjusted.csv\")\n",
    "futures_volumes.to_csv(\"futures_volumes.csv\")\n",
    "\n",
    "print(\"✅ Historical data (2007–2010 & 2019–2022) downloaded from Nasdaq Data Link.\")\n"
   ]
  }
 ],
 "metadata": {
  "language_info": {
   "name": "python"
  }
 },
 "nbformat": 4,
 "nbformat_minor": 5
}
